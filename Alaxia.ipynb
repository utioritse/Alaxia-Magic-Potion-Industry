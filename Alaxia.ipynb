{
 "cells": [
  {
   "cell_type": "code",
   "execution_count": 33,
   "id": "98f44fac-cb91-419b-8f65-865f152bdd62",
   "metadata": {},
   "outputs": [
    {
     "name": "stdout",
     "output_type": "stream",
     "text": [
      "Index(['Potion Name', 'Potion Type', 'Main Ingredient', 'Price (Gold Coins)',\n",
      "       'Monthly Sales', 'Customer Age Group', 'Region',\n",
      "       'Production Cost (Gold Coins)', 'Seasonality', 'Customer Ratings'],\n",
      "      dtype='object')\n",
      "Potion Name                     0\n",
      "Potion Type                     0\n",
      "Main Ingredient                 0\n",
      "Price (Gold Coins)              0\n",
      "Monthly Sales                   0\n",
      "Customer Age Group              0\n",
      "Region                          0\n",
      "Production Cost (Gold Coins)    0\n",
      "Seasonality                     0\n",
      "Customer Ratings                0\n",
      "dtype: int64\n"
     ]
    }
   ],
   "source": [
    "#importing the pandas library\n",
    "import pandas as pd\n",
    "#getting a general understanding of the database\n",
    "potions = pd.read_csv('Magic_Potions_Industry.csv')\n",
    "print(potions.columns)\n",
    "potions.head()\n",
    "print(potions.isnull().sum())\n"
   ]
  },
  {
   "cell_type": "code",
   "execution_count": 23,
   "id": "51cfc9e2-6b90-474e-a0d6-5e9f6bc8051a",
   "metadata": {},
   "outputs": [
    {
     "data": {
      "text/plain": [
       "<bound method NDFrame.describe of                Potion Name    Potion Type  Main Ingredient  \\\n",
       "0   Fire Resistance Potion        Healing        Elf Tears   \n",
       "1       Invisibility Tonic  Miscellaneous        Troll Fat   \n",
       "2     Dragon Breath Potion        Healing    Spectral Vine   \n",
       "3     Dragon Breath Potion        Healing        Troll Fat   \n",
       "4     Dragon Breath Potion        Healing    Spectral Vine   \n",
       "..                     ...            ...              ...   \n",
       "95          Strength Serum        Healing    Spectral Vine   \n",
       "96    Dragon Breath Potion    Enhancement   Moonstone Dust   \n",
       "97              Speed Brew         Combat    Mandrake Root   \n",
       "98              Speed Brew    Enhancement  Phoenix Feather   \n",
       "99    Dragon Breath Potion    Enhancement   Moonstone Dust   \n",
       "\n",
       "    Price (Gold Coins)  Monthly Sales Customer Age Group            Region  \\\n",
       "0                   56             70              18-25       Dragonspire   \n",
       "1                   26            424              26-40      Mystic Falls   \n",
       "2                   11            416              26-40       Dragonspire   \n",
       "3                   11            235              26-40  Enchanted Forest   \n",
       "4                   77            302              18-25      Mystic Falls   \n",
       "..                 ...            ...                ...               ...   \n",
       "95                  64            200                60+      Mystic Falls   \n",
       "96                  87            408              41-60      Golden Hills   \n",
       "97                  12             58              18-25      Golden Hills   \n",
       "98                  38            416              41-60       Shadowlands   \n",
       "99                  71            151                60+       Shadowlands   \n",
       "\n",
       "    Production Cost (Gold Coins) Seasonality  Customer Ratings  \n",
       "0                             72      Spring               4.9  \n",
       "1                             74      Summer               3.3  \n",
       "2                             65        Fall               3.8  \n",
       "3                             74      Winter               4.3  \n",
       "4                             74  Year-round               3.5  \n",
       "..                           ...         ...               ...  \n",
       "95                            56      Winter               3.4  \n",
       "96                            67      Summer               4.5  \n",
       "97                            40        Fall               4.5  \n",
       "98                            18      Summer               3.0  \n",
       "99                            33      Spring               3.6  \n",
       "\n",
       "[100 rows x 10 columns]>"
      ]
     },
     "execution_count": 23,
     "metadata": {},
     "output_type": "execute_result"
    }
   ],
   "source": [
    "potions.describe"
   ]
  },
  {
   "cell_type": "code",
   "execution_count": 31,
   "id": "65b35734-f5dc-4334-bdcc-12326ec62997",
   "metadata": {},
   "outputs": [
    {
     "data": {
      "text/plain": [
       "Potion Name                      object\n",
       "Potion Type                      object\n",
       "Main Ingredient                  object\n",
       "Price (Gold Coins)                int64\n",
       "Monthly Sales                     int64\n",
       "Customer Age Group               object\n",
       "Region                           object\n",
       "Production Cost (Gold Coins)      int64\n",
       "Seasonality                      object\n",
       "Customer Ratings                float64\n",
       "dtype: object"
      ]
     },
     "execution_count": 31,
     "metadata": {},
     "output_type": "execute_result"
    }
   ],
   "source": [
    "potions.dtypes"
   ]
  },
  {
   "cell_type": "code",
   "execution_count": 43,
   "id": "dbb43cf3-d6ca-4aff-bb41-99495e715328",
   "metadata": {},
   "outputs": [
    {
     "data": {
      "text/html": [
       "<div>\n",
       "<style scoped>\n",
       "    .dataframe tbody tr th:only-of-type {\n",
       "        vertical-align: middle;\n",
       "    }\n",
       "\n",
       "    .dataframe tbody tr th {\n",
       "        vertical-align: top;\n",
       "    }\n",
       "\n",
       "    .dataframe thead th {\n",
       "        text-align: right;\n",
       "    }\n",
       "</style>\n",
       "<table border=\"1\" class=\"dataframe\">\n",
       "  <thead>\n",
       "    <tr style=\"text-align: right;\">\n",
       "      <th></th>\n",
       "      <th>Potion Name</th>\n",
       "      <th>Potion Type</th>\n",
       "      <th>Main Ingredient</th>\n",
       "      <th>Price (Gold Coins)</th>\n",
       "      <th>Monthly Sales</th>\n",
       "      <th>Customer Age Group</th>\n",
       "      <th>Region</th>\n",
       "      <th>Production Cost (Gold Coins)</th>\n",
       "      <th>Seasonality</th>\n",
       "      <th>Customer Ratings</th>\n",
       "    </tr>\n",
       "  </thead>\n",
       "  <tbody>\n",
       "    <tr>\n",
       "      <th>0</th>\n",
       "      <td>Fire Resistance Potion</td>\n",
       "      <td>Healing</td>\n",
       "      <td>Elf Tears</td>\n",
       "      <td>56</td>\n",
       "      <td>70</td>\n",
       "      <td>18-25</td>\n",
       "      <td>Dragonspire</td>\n",
       "      <td>72</td>\n",
       "      <td>Spring</td>\n",
       "      <td>4.9</td>\n",
       "    </tr>\n",
       "    <tr>\n",
       "      <th>1</th>\n",
       "      <td>Invisibility Tonic</td>\n",
       "      <td>Miscellaneous</td>\n",
       "      <td>Troll Fat</td>\n",
       "      <td>26</td>\n",
       "      <td>424</td>\n",
       "      <td>26-40</td>\n",
       "      <td>Mystic Falls</td>\n",
       "      <td>74</td>\n",
       "      <td>Summer</td>\n",
       "      <td>3.3</td>\n",
       "    </tr>\n",
       "    <tr>\n",
       "      <th>2</th>\n",
       "      <td>Dragon Breath Potion</td>\n",
       "      <td>Healing</td>\n",
       "      <td>Spectral Vine</td>\n",
       "      <td>11</td>\n",
       "      <td>416</td>\n",
       "      <td>26-40</td>\n",
       "      <td>Dragonspire</td>\n",
       "      <td>65</td>\n",
       "      <td>Fall</td>\n",
       "      <td>3.8</td>\n",
       "    </tr>\n",
       "    <tr>\n",
       "      <th>3</th>\n",
       "      <td>Dragon Breath Potion</td>\n",
       "      <td>Healing</td>\n",
       "      <td>Troll Fat</td>\n",
       "      <td>11</td>\n",
       "      <td>235</td>\n",
       "      <td>26-40</td>\n",
       "      <td>Enchanted Forest</td>\n",
       "      <td>74</td>\n",
       "      <td>Winter</td>\n",
       "      <td>4.3</td>\n",
       "    </tr>\n",
       "    <tr>\n",
       "      <th>4</th>\n",
       "      <td>Dragon Breath Potion</td>\n",
       "      <td>Healing</td>\n",
       "      <td>Spectral Vine</td>\n",
       "      <td>77</td>\n",
       "      <td>302</td>\n",
       "      <td>18-25</td>\n",
       "      <td>Mystic Falls</td>\n",
       "      <td>74</td>\n",
       "      <td>Year-round</td>\n",
       "      <td>3.5</td>\n",
       "    </tr>\n",
       "  </tbody>\n",
       "</table>\n",
       "</div>"
      ],
      "text/plain": [
       "              Potion Name    Potion Type Main Ingredient  Price (Gold Coins)  \\\n",
       "0  Fire Resistance Potion        Healing       Elf Tears                  56   \n",
       "1      Invisibility Tonic  Miscellaneous       Troll Fat                  26   \n",
       "2    Dragon Breath Potion        Healing   Spectral Vine                  11   \n",
       "3    Dragon Breath Potion        Healing       Troll Fat                  11   \n",
       "4    Dragon Breath Potion        Healing   Spectral Vine                  77   \n",
       "\n",
       "   Monthly Sales Customer Age Group            Region  \\\n",
       "0             70              18-25       Dragonspire   \n",
       "1            424              26-40      Mystic Falls   \n",
       "2            416              26-40       Dragonspire   \n",
       "3            235              26-40  Enchanted Forest   \n",
       "4            302              18-25      Mystic Falls   \n",
       "\n",
       "   Production Cost (Gold Coins) Seasonality  Customer Ratings  \n",
       "0                            72      Spring               4.9  \n",
       "1                            74      Summer               3.3  \n",
       "2                            65        Fall               3.8  \n",
       "3                            74      Winter               4.3  \n",
       "4                            74  Year-round               3.5  "
      ]
     },
     "execution_count": 43,
     "metadata": {},
     "output_type": "execute_result"
    }
   ],
   "source": [
    "potions.head()"
   ]
  },
  {
   "cell_type": "code",
   "execution_count": 49,
   "id": "5325c850-7ea6-4575-9bc9-4db848d4a0f6",
   "metadata": {},
   "outputs": [
    {
     "data": {
      "text/plain": [
       "57.35"
      ]
     },
     "execution_count": 49,
     "metadata": {},
     "output_type": "execute_result"
    }
   ],
   "source": [
    "# The average potion cost in Alaxia\n",
    "average_potion_cost = potions['Price (Gold Coins)'].mean()\n",
    "average_potion_cost"
   ]
  },
  {
   "cell_type": "code",
   "execution_count": 51,
   "id": "86552878-6e9e-4c7a-aef1-683746fec7bd",
   "metadata": {},
   "outputs": [
    {
     "data": {
      "text/plain": [
       "44.1"
      ]
     },
     "execution_count": 51,
     "metadata": {},
     "output_type": "execute_result"
    }
   ],
   "source": [
    "# The average potion production cost in Alaxia\n",
    "average_potion_production_cost = potions['Production Cost (Gold Coins)'].mean()\n",
    "average_potion_production_cost"
   ]
  },
  {
   "cell_type": "code",
   "execution_count": 73,
   "id": "9514a0ca-f59a-46cc-9afb-d546c5aedc01",
   "metadata": {},
   "outputs": [
    {
     "data": {
      "text/plain": [
       "Potion Name\n",
       "Dragon Breath Potion      864\n",
       "Strength Serum            694\n",
       "Fire Resistance Potion    661\n",
       "Frost Ward                653\n",
       "Charm Elixir              533\n",
       "Mana Boost                527\n",
       "Invisibility Tonic        521\n",
       "Night Vision Draught      445\n",
       "Healing Elixir            434\n",
       "Speed Brew                403\n",
       "Name: Price (Gold Coins), dtype: int64"
      ]
     },
     "execution_count": 73,
     "metadata": {},
     "output_type": "execute_result"
    }
   ],
   "source": [
    "# Here we learn that Dragon Breath Potion is the most popular potion in Alaxia in terms of sales\n",
    "total_sales = potions.groupby(['Potion Name'])['Price (Gold Coins)'].sum().sort_values(ascending=False)\n",
    "total_sales"
   ]
  },
  {
   "cell_type": "code",
   "execution_count": 159,
   "id": "8e50aeae-0db1-4ea0-a8e1-a8c52de0687e",
   "metadata": {},
   "outputs": [
    {
     "data": {
      "text/plain": [
       "Potion Name\n",
       "Mana Boost                52\n",
       "Dragon Breath Potion      50\n",
       "Charm Elixir              47\n",
       "Fire Resistance Potion    46\n",
       "Healing Elixir            46\n",
       "Night Vision Draught      45\n",
       "Frost Ward                41\n",
       "Speed Brew                41\n",
       "Invisibility Tonic        38\n",
       "Strength Serum            36\n",
       "Name: Production Cost (Gold Coins), dtype: int32"
      ]
     },
     "execution_count": 159,
     "metadata": {},
     "output_type": "execute_result"
    }
   ],
   "source": [
    "# On average, Mana Boost is the most expensive potion to produce followed by the highest selling potion, Dragon Breath Potion\n",
    "average_production_cost = potions.groupby(['Potion Name'])['Production Cost (Gold Coins)'].mean().sort_values(ascending=False).round(0).astype(int)\n",
    "average_production_cost"
   ]
  },
  {
   "cell_type": "code",
   "execution_count": 105,
   "id": "78ce1475-22c1-4587-87e5-632e1920d300",
   "metadata": {},
   "outputs": [
    {
     "data": {
      "text/plain": [
       "Potion Name             Region          \n",
       "Charm Elixir            Dragonspire         150\n",
       "                        Enchanted Forest    167\n",
       "                        Golden Hills         74\n",
       "                        Mystic Falls         14\n",
       "                        Shadowlands         128\n",
       "Dragon Breath Potion    Dragonspire          41\n",
       "                        Enchanted Forest    137\n",
       "                        Golden Hills        261\n",
       "                        Mystic Falls        255\n",
       "                        Shadowlands         170\n",
       "Fire Resistance Potion  Dragonspire         154\n",
       "                        Golden Hills        187\n",
       "                        Mystic Falls        242\n",
       "                        Shadowlands          78\n",
       "Frost Ward              Dragonspire          79\n",
       "                        Enchanted Forest    164\n",
       "                        Golden Hills         72\n",
       "                        Mystic Falls         94\n",
       "                        Shadowlands         244\n",
       "Healing Elixir          Dragonspire         175\n",
       "                        Enchanted Forest    153\n",
       "                        Golden Hills         68\n",
       "                        Shadowlands          38\n",
       "Invisibility Tonic      Dragonspire          46\n",
       "                        Enchanted Forest     94\n",
       "                        Golden Hills         37\n",
       "                        Mystic Falls        147\n",
       "                        Shadowlands         197\n",
       "Mana Boost              Dragonspire          48\n",
       "                        Enchanted Forest     13\n",
       "                        Golden Hills        183\n",
       "                        Shadowlands         283\n",
       "Night Vision Draught    Dragonspire         183\n",
       "                        Golden Hills        168\n",
       "                        Shadowlands          94\n",
       "Speed Brew              Dragonspire          68\n",
       "                        Enchanted Forest     88\n",
       "                        Golden Hills         53\n",
       "                        Mystic Falls         96\n",
       "                        Shadowlands          98\n",
       "Strength Serum          Dragonspire          24\n",
       "                        Enchanted Forest    250\n",
       "                        Golden Hills         54\n",
       "                        Mystic Falls        109\n",
       "                        Shadowlands         257\n",
       "Name: Price (Gold Coins), dtype: int64"
      ]
     },
     "execution_count": 105,
     "metadata": {},
     "output_type": "execute_result"
    }
   ],
   "source": [
    "cost_per_region = potions.groupby(['Potion Name','Region'])['Price (Gold Coins)'].sum()\n",
    "cost_per_region"
   ]
  },
  {
   "cell_type": "code",
   "execution_count": 157,
   "id": "2268e0d4-dd23-4692-8033-a3844ec808c9",
   "metadata": {},
   "outputs": [
    {
     "data": {
      "text/plain": [
       "Potion Name             Region          \n",
       "Charm Elixir            Dragonspire         50\n",
       "                        Enchanted Forest    56\n",
       "                        Golden Hills        37\n",
       "                        Mystic Falls        14\n",
       "                        Shadowlands         43\n",
       "Dragon Breath Potion    Dragonspire         20\n",
       "                        Enchanted Forest    46\n",
       "                        Golden Hills        87\n",
       "                        Mystic Falls        85\n",
       "                        Shadowlands         85\n",
       "Fire Resistance Potion  Dragonspire         77\n",
       "                        Golden Hills        62\n",
       "                        Mystic Falls        81\n",
       "                        Shadowlands         78\n",
       "Frost Ward              Dragonspire         79\n",
       "                        Enchanted Forest    55\n",
       "                        Golden Hills        72\n",
       "                        Mystic Falls        94\n",
       "                        Shadowlands         61\n",
       "Healing Elixir          Dragonspire         58\n",
       "                        Enchanted Forest    38\n",
       "                        Golden Hills        68\n",
       "                        Shadowlands         38\n",
       "Invisibility Tonic      Dragonspire         46\n",
       "                        Enchanted Forest    94\n",
       "                        Golden Hills        18\n",
       "                        Mystic Falls        49\n",
       "                        Shadowlands         66\n",
       "Mana Boost              Dragonspire         48\n",
       "                        Enchanted Forest    13\n",
       "                        Golden Hills        92\n",
       "                        Shadowlands         71\n",
       "Night Vision Draught    Dragonspire         61\n",
       "                        Golden Hills        56\n",
       "                        Shadowlands         47\n",
       "Speed Brew              Dragonspire         68\n",
       "                        Enchanted Forest    44\n",
       "                        Golden Hills        26\n",
       "                        Mystic Falls        48\n",
       "                        Shadowlands         33\n",
       "Strength Serum          Dragonspire         24\n",
       "                        Enchanted Forest    83\n",
       "                        Golden Hills        27\n",
       "                        Mystic Falls        54\n",
       "                        Shadowlands         86\n",
       "Name: Price (Gold Coins), dtype: int32"
      ]
     },
     "execution_count": 157,
     "metadata": {},
     "output_type": "execute_result"
    }
   ],
   "source": [
    "average_cost_per_region = potions.groupby(['Potion Name','Region'])['Price (Gold Coins)'].mean().round().astype(int)\n",
    "average_cost_per_region"
   ]
  },
  {
   "cell_type": "code",
   "execution_count": 161,
   "id": "ecfd0110-0e75-4a90-8a74-a6fd5eca26c5",
   "metadata": {},
   "outputs": [
    {
     "data": {
      "text/plain": [
       "Main Ingredient\n",
       "Mandrake Root      17\n",
       "Troll Fat          12\n",
       "Griffin Claw       12\n",
       "Elf Tears          11\n",
       "Goblin Mushroom    10\n",
       "Moonstone Dust     10\n",
       "Spectral Vine       8\n",
       "Phoenix Feather     7\n",
       "Unicorn Horn        7\n",
       "Dragon Scale        6\n",
       "Name: count, dtype: int64"
      ]
     },
     "execution_count": 161,
     "metadata": {},
     "output_type": "execute_result"
    }
   ],
   "source": [
    "#Understanding the Ingredients column\n",
    "potions.head()\n",
    "most_common_ingredient = potions['Main Ingredient'].value_counts()\n",
    "most_common_ingredient"
   ]
  },
  {
   "cell_type": "code",
   "execution_count": 188,
   "id": "b296d6b6-a0f5-4533-9e9d-384a05391826",
   "metadata": {},
   "outputs": [
    {
     "data": {
      "text/html": [
       "<div>\n",
       "<style scoped>\n",
       "    .dataframe tbody tr th:only-of-type {\n",
       "        vertical-align: middle;\n",
       "    }\n",
       "\n",
       "    .dataframe tbody tr th {\n",
       "        vertical-align: top;\n",
       "    }\n",
       "\n",
       "    .dataframe thead th {\n",
       "        text-align: right;\n",
       "    }\n",
       "</style>\n",
       "<table border=\"1\" class=\"dataframe\">\n",
       "  <thead>\n",
       "    <tr style=\"text-align: right;\">\n",
       "      <th></th>\n",
       "      <th>Potion Name</th>\n",
       "      <th>Potion Type</th>\n",
       "      <th>Main Ingredient</th>\n",
       "      <th>Price (Gold Coins)</th>\n",
       "      <th>Monthly Sales</th>\n",
       "      <th>Customer Age Group</th>\n",
       "      <th>Region</th>\n",
       "      <th>Production Cost (Gold Coins)</th>\n",
       "      <th>Seasonality</th>\n",
       "      <th>Customer Ratings</th>\n",
       "      <th>Revenue</th>\n",
       "      <th>Total Production Cost</th>\n",
       "      <th>Profit</th>\n",
       "    </tr>\n",
       "  </thead>\n",
       "  <tbody>\n",
       "    <tr>\n",
       "      <th>0</th>\n",
       "      <td>Fire Resistance Potion</td>\n",
       "      <td>Healing</td>\n",
       "      <td>Elf Tears</td>\n",
       "      <td>56</td>\n",
       "      <td>70</td>\n",
       "      <td>18-25</td>\n",
       "      <td>Dragonspire</td>\n",
       "      <td>72</td>\n",
       "      <td>Spring</td>\n",
       "      <td>4.9</td>\n",
       "      <td>3920</td>\n",
       "      <td>5040</td>\n",
       "      <td>-1120</td>\n",
       "    </tr>\n",
       "    <tr>\n",
       "      <th>1</th>\n",
       "      <td>Invisibility Tonic</td>\n",
       "      <td>Miscellaneous</td>\n",
       "      <td>Troll Fat</td>\n",
       "      <td>26</td>\n",
       "      <td>424</td>\n",
       "      <td>26-40</td>\n",
       "      <td>Mystic Falls</td>\n",
       "      <td>74</td>\n",
       "      <td>Summer</td>\n",
       "      <td>3.3</td>\n",
       "      <td>11024</td>\n",
       "      <td>31376</td>\n",
       "      <td>-20352</td>\n",
       "    </tr>\n",
       "    <tr>\n",
       "      <th>2</th>\n",
       "      <td>Dragon Breath Potion</td>\n",
       "      <td>Healing</td>\n",
       "      <td>Spectral Vine</td>\n",
       "      <td>11</td>\n",
       "      <td>416</td>\n",
       "      <td>26-40</td>\n",
       "      <td>Dragonspire</td>\n",
       "      <td>65</td>\n",
       "      <td>Fall</td>\n",
       "      <td>3.8</td>\n",
       "      <td>4576</td>\n",
       "      <td>27040</td>\n",
       "      <td>-22464</td>\n",
       "    </tr>\n",
       "    <tr>\n",
       "      <th>3</th>\n",
       "      <td>Dragon Breath Potion</td>\n",
       "      <td>Healing</td>\n",
       "      <td>Troll Fat</td>\n",
       "      <td>11</td>\n",
       "      <td>235</td>\n",
       "      <td>26-40</td>\n",
       "      <td>Enchanted Forest</td>\n",
       "      <td>74</td>\n",
       "      <td>Winter</td>\n",
       "      <td>4.3</td>\n",
       "      <td>2585</td>\n",
       "      <td>17390</td>\n",
       "      <td>-14805</td>\n",
       "    </tr>\n",
       "    <tr>\n",
       "      <th>4</th>\n",
       "      <td>Dragon Breath Potion</td>\n",
       "      <td>Healing</td>\n",
       "      <td>Spectral Vine</td>\n",
       "      <td>77</td>\n",
       "      <td>302</td>\n",
       "      <td>18-25</td>\n",
       "      <td>Mystic Falls</td>\n",
       "      <td>74</td>\n",
       "      <td>Year-round</td>\n",
       "      <td>3.5</td>\n",
       "      <td>23254</td>\n",
       "      <td>22348</td>\n",
       "      <td>906</td>\n",
       "    </tr>\n",
       "  </tbody>\n",
       "</table>\n",
       "</div>"
      ],
      "text/plain": [
       "              Potion Name    Potion Type Main Ingredient  Price (Gold Coins)  \\\n",
       "0  Fire Resistance Potion        Healing       Elf Tears                  56   \n",
       "1      Invisibility Tonic  Miscellaneous       Troll Fat                  26   \n",
       "2    Dragon Breath Potion        Healing   Spectral Vine                  11   \n",
       "3    Dragon Breath Potion        Healing       Troll Fat                  11   \n",
       "4    Dragon Breath Potion        Healing   Spectral Vine                  77   \n",
       "\n",
       "   Monthly Sales Customer Age Group            Region  \\\n",
       "0             70              18-25       Dragonspire   \n",
       "1            424              26-40      Mystic Falls   \n",
       "2            416              26-40       Dragonspire   \n",
       "3            235              26-40  Enchanted Forest   \n",
       "4            302              18-25      Mystic Falls   \n",
       "\n",
       "   Production Cost (Gold Coins) Seasonality  Customer Ratings  Revenue  \\\n",
       "0                            72      Spring               4.9     3920   \n",
       "1                            74      Summer               3.3    11024   \n",
       "2                            65        Fall               3.8     4576   \n",
       "3                            74      Winter               4.3     2585   \n",
       "4                            74  Year-round               3.5    23254   \n",
       "\n",
       "   Total Production Cost  Profit  \n",
       "0                   5040   -1120  \n",
       "1                  31376  -20352  \n",
       "2                  27040  -22464  \n",
       "3                  17390  -14805  \n",
       "4                  22348     906  "
      ]
     },
     "execution_count": 188,
     "metadata": {},
     "output_type": "execute_result"
    }
   ],
   "source": [
    "#Calculate the revenue per potion by multiplying the monthly sales as a unit sale by the potion price\n",
    "potions['Revenue'] = potions['Monthly Sales'] * potions['Price (Gold Coins)']\n",
    "#Calculate the total production cost per potion and not unit cost to find out how much druids are spending every month to make potions\n",
    "potions['Total Production Cost'] = potions['Monthly Sales'] * potions['Production Cost (Gold Coins)']\n",
    "#Find the profit \n",
    "potions['Profit'] = potions['Revenue'] - potions['Total Production Cost']\n",
    "potions.head()"
   ]
  },
  {
   "cell_type": "code",
   "execution_count": 182,
   "id": "3e3643a1-4c68-4b91-afc6-aba262240e4c",
   "metadata": {},
   "outputs": [
    {
     "data": {
      "text/plain": [
       "1553622"
      ]
     },
     "execution_count": 182,
     "metadata": {},
     "output_type": "execute_result"
    }
   ],
   "source": [
    "potions['Revenue'].sum()"
   ]
  },
  {
   "cell_type": "code",
   "execution_count": 190,
   "id": "99603974-82fa-41c8-ab3e-af6ecb372543",
   "metadata": {},
   "outputs": [
    {
     "data": {
      "text/plain": [
       "417552"
      ]
     },
     "execution_count": 190,
     "metadata": {},
     "output_type": "execute_result"
    }
   ],
   "source": [
    "potions['Profit'].sum()"
   ]
  },
  {
   "cell_type": "code",
   "execution_count": null,
   "id": "8a173dc4-5dc5-4c80-b389-b9ae6d35d7b7",
   "metadata": {},
   "outputs": [],
   "source": []
  },
  {
   "cell_type": "code",
   "execution_count": null,
   "id": "1262565a-ebf1-490b-9152-7be140d245d2",
   "metadata": {},
   "outputs": [],
   "source": []
  },
  {
   "cell_type": "code",
   "execution_count": null,
   "id": "79f37850-ae84-4164-a103-61a6610b7dcf",
   "metadata": {},
   "outputs": [],
   "source": []
  }
 ],
 "metadata": {
  "kernelspec": {
   "display_name": "Python 3 (ipykernel)",
   "language": "python",
   "name": "python3"
  },
  "language_info": {
   "codemirror_mode": {
    "name": "ipython",
    "version": 3
   },
   "file_extension": ".py",
   "mimetype": "text/x-python",
   "name": "python",
   "nbconvert_exporter": "python",
   "pygments_lexer": "ipython3",
   "version": "3.12.4"
  }
 },
 "nbformat": 4,
 "nbformat_minor": 5
}
